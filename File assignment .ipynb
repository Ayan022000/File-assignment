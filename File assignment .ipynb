{
 "cells": [
  {
   "cell_type": "markdown",
   "id": "dd74b8e8",
   "metadata": {},
   "source": [
    "# Q 1."
   ]
  },
  {
   "cell_type": "markdown",
   "id": "91ba0abd",
   "metadata": {},
   "source": [
    "## Which function is used to open a file? What are the different modes of opening a file? Explain each mode of file opening."
   ]
  },
  {
   "cell_type": "markdown",
   "id": "348f5c6f",
   "metadata": {},
   "source": [
    "In Python, you can use the built-in open() function to open a file. This function takes two parameters: the name of the file you want to open and the mode in which you want to open it.\n",
    "\n",
    "The different modes of opening a file in Python are:\n",
    "\n",
    "r: This is the default mode. It opens the file for reading. If the file doesn't exist, it will raise an error.\n",
    "w: This mode opens the file for writing. If the file already exists, it will truncate the file to zero length. If the file does not exist, it will create a new file.\n",
    "a: This mode opens the file for appending. If the file doesn't exist, it will create a new file. If the file exists, the new data you write to the file will be appended to the end of the file.\n",
    "x: This mode opens the file for exclusive creation. If the file already exists, it will raise an error.\n",
    "b: This mode is used for binary files. It must be used in combination with one of the other modes. For example, rb will open the file for reading in binary mode.\n",
    "t: This mode is used for text files. It is the default mode and can be used with any of the other modes. For example, rt will open the file for reading in text mode."
   ]
  },
  {
   "cell_type": "markdown",
   "id": "be1d0762",
   "metadata": {},
   "source": [
    "# Q 2."
   ]
  },
  {
   "cell_type": "markdown",
   "id": "b5985a49",
   "metadata": {},
   "source": [
    "## Why close() function is used? Why is it important to close a file?"
   ]
  },
  {
   "cell_type": "markdown",
   "id": "40398291",
   "metadata": {},
   "source": [
    "The close() function is used to close a file in a program after the file has been opened for reading or writing. It is important to close a file after using it because it releases the resources associated with the file, such as memory and processor time, and ensures that all data is written to the file.\n",
    "\n",
    "When a file is opened, the operating system creates a file object that keeps track of the file's location, status, and other important information. When the close() function is called on this file object, it notifies the operating system that the file is no longer being used by the program, and the file object is destroyed. This frees up system resources and ensures that other programs can access the file if necessary.\n",
    "\n",
    "If you don't close a file after using it, it can lead to several problems, such as:\n",
    "\n",
    "1.Resource leaks: If you open too many files without closing them, you may run out of system resources, which can cause your program to crash.\n",
    "\n",
    "2.Data loss: If you don't close a file after writing data to it, some or all of the data may not be written to the file. This can result in data loss, which can be difficult or impossible to recover.\n",
    "\n",
    "3.File corruption: If you don't close a file after writing data to it, the file may become corrupted. This can happen if the program crashes or if there is a power outage or other system failure while the file is open.\n",
    "\n",
    "Therefore, it is always a good practice to close the files after using them to avoid any potential issues."
   ]
  },
  {
   "cell_type": "markdown",
   "id": "4688d598",
   "metadata": {},
   "source": [
    "# Q 3."
   ]
  },
  {
   "cell_type": "markdown",
   "id": "048e91e7",
   "metadata": {},
   "source": [
    "## Write a python program to create a text file. Write ‘I want to become a Data Scientist’ in that file. Then close the file. Open this file and read the content of the file."
   ]
  },
  {
   "cell_type": "code",
   "execution_count": 3,
   "id": "7d96644b",
   "metadata": {},
   "outputs": [],
   "source": [
    "f= open(\"test.txt\",'w')\n",
    "f.write(\"i wnna be a data scientist in future\")\n",
    "f.close()"
   ]
  },
  {
   "cell_type": "code",
   "execution_count": 8,
   "id": "6256cab3",
   "metadata": {},
   "outputs": [
    {
     "data": {
      "text/plain": [
       "'i wnna be a data scientist in future'"
      ]
     },
     "execution_count": 8,
     "metadata": {},
     "output_type": "execute_result"
    }
   ],
   "source": [
    "f = open('test.txt','r')\n",
    "f.read()"
   ]
  },
  {
   "cell_type": "code",
   "execution_count": 9,
   "id": "22d0d1b9",
   "metadata": {},
   "outputs": [],
   "source": [
    "f.close()"
   ]
  },
  {
   "cell_type": "markdown",
   "id": "220064c0",
   "metadata": {},
   "source": [
    "# Q 4."
   ]
  },
  {
   "cell_type": "markdown",
   "id": "c89eecaa",
   "metadata": {},
   "source": [
    "## Explain the following with python code: read(), readline() and readlines()."
   ]
  },
  {
   "cell_type": "markdown",
   "id": "fb8b1d9f",
   "metadata": {},
   "source": [
    "read() method:\n",
    "The read() method reads the entire content of a file as a string. This method takes an optional argument that specifies the number of bytes to read. If no argument is provided, it reads the entire file."
   ]
  },
  {
   "cell_type": "code",
   "execution_count": 11,
   "id": "dbfc58a3",
   "metadata": {},
   "outputs": [],
   "source": [
    "f1= open(\"test1.txt\",'w')\n",
    "f1.write(\"Data Science Masters course is highly curated and uniquely designed according to the latest industry standards. This program instills students the skills essential to knowledge discovery efforts to identify standard, novel, and truly differentiated solutions and decision-making, including skills in managing, querying, analyzing, visualizing, and extracting meaning from extremely large data sets. This trending program provides students with the statistical, mathematical and computational skills needed to meet the large-scale data science challenges of today's professional world. You will learn all the stack required to work in data science industry including cloud infrastructure and real-time industry projects.\")\n",
    "f1.close()         "
   ]
  },
  {
   "cell_type": "code",
   "execution_count": 13,
   "id": "3d27d56d",
   "metadata": {},
   "outputs": [
    {
     "data": {
      "text/plain": [
       "\"Data Science Masters course is highly curated and uniquely designed according to the latest industry standards. This program instills students the skills essential to knowledge discovery efforts to identify standard, novel, and truly differentiated solutions and decision-making, including skills in managing, querying, analyzing, visualizing, and extracting meaning from extremely large data sets. This trending program provides students with the statistical, mathematical and computational skills needed to meet the large-scale data science challenges of today's professional world. You will learn all the stack required to work in data science industry including cloud infrastructure and real-time industry projects.\""
      ]
     },
     "execution_count": 13,
     "metadata": {},
     "output_type": "execute_result"
    }
   ],
   "source": [
    "f1=open('test1.txt','r')\n",
    "f1.read()"
   ]
  },
  {
   "cell_type": "markdown",
   "id": "d738c4bc",
   "metadata": {},
   "source": [
    "readline() method:\n",
    "The readline() method reads a single line from a file. If it is called again, it reads the next line and so on until the end of the file is reached. This method returns an empty string when the end of the file is reached."
   ]
  },
  {
   "cell_type": "code",
   "execution_count": 17,
   "id": "9d0b272c",
   "metadata": {},
   "outputs": [],
   "source": [
    "with open(\"test2.txt\",'w') as f2:\n",
    "    f2.write(\"i want to be a data scientist.\\n This is pwskill data science course\")\n",
    "    f2.close()"
   ]
  },
  {
   "cell_type": "code",
   "execution_count": 21,
   "id": "b6d1ae7a",
   "metadata": {},
   "outputs": [
    {
     "name": "stdout",
     "output_type": "stream",
     "text": [
      "i want to be a data scientist.\n",
      "\n",
      " This is pwskill data science course\n"
     ]
    }
   ],
   "source": [
    "with open(\"test2.txt\",\"r\") as f2:\n",
    "    line1= f2.readline()\n",
    "    line2= f2.readline()\n",
    "    print(line1)\n",
    "    print(line2)"
   ]
  },
  {
   "cell_type": "markdown",
   "id": "71524a6f",
   "metadata": {},
   "source": [
    "readlines() method:\n",
    "The readlines() method reads all the lines of a file and returns a list of strings. Each string in the list represents a line of the file."
   ]
  },
  {
   "cell_type": "code",
   "execution_count": 25,
   "id": "1eb9c87d",
   "metadata": {},
   "outputs": [
    {
     "name": "stdout",
     "output_type": "stream",
     "text": [
      "['i want to be a data scientist.\\n', ' This is pwskill data science course']\n"
     ]
    }
   ],
   "source": [
    "with open(\"test2.txt\",'r')as f2:\n",
    "    all_lines= f2.readlines()\n",
    "    print(all_lines)"
   ]
  },
  {
   "cell_type": "markdown",
   "id": "ec2e3b40",
   "metadata": {},
   "source": [
    "# Q 5."
   ]
  },
  {
   "cell_type": "markdown",
   "id": "d6f3368d",
   "metadata": {},
   "source": [
    "## Explain why with statement is used with open(). What is the advantage of using with statement and open() together?"
   ]
  },
  {
   "cell_type": "markdown",
   "id": "50ee4734",
   "metadata": {},
   "source": [
    "The with statement is used with the open() function in Python to automatically manage file resources by ensuring that a file is properly opened and closed, regardless of whether an error occurs during the processing of the file.\n",
    "\n",
    "When you use the with statement to open a file, Python creates a context that encapsulates the file and any operations performed on it. This context is then responsible for automatically closing the file when the processing is complete, regardless of whether an exception is raised during the processing."
   ]
  },
  {
   "cell_type": "markdown",
   "id": "99fa94a3",
   "metadata": {},
   "source": [
    "# Q 6."
   ]
  },
  {
   "cell_type": "markdown",
   "id": "609a1d10",
   "metadata": {},
   "source": [
    "## Explain the write() and writelines() functions. Give a suitable example."
   ]
  },
  {
   "cell_type": "markdown",
   "id": "844285d1",
   "metadata": {},
   "source": [
    "write(): This function is used to write a single string or a group of strings to a file. It returns the number of characters written to the file. The syntax is as follows:"
   ]
  },
  {
   "cell_type": "code",
   "execution_count": 2,
   "id": "62fdc884",
   "metadata": {},
   "outputs": [
    {
     "name": "stdout",
     "output_type": "stream",
     "text": [
      "<_io.TextIOWrapper name='test3.txt' mode='w' encoding='cp1252'>\n"
     ]
    }
   ],
   "source": [
    "with open(\"test3.txt\",'w') as f:\n",
    "    f.write('Hello world !!!')\n",
    "    print(f)"
   ]
  },
  {
   "cell_type": "markdown",
   "id": "44eb1f2c",
   "metadata": {},
   "source": [
    "writelines(): This function is used to write a list of strings to a file. It does not add any line separators between the strings, so you may want to add them manually. The syntax is as follows:"
   ]
  },
  {
   "cell_type": "code",
   "execution_count": 4,
   "id": "08a4c2e4",
   "metadata": {},
   "outputs": [],
   "source": [
    "with open(\"test3.txt\",'w') as f:\n",
    "    f.writelines(['Hello world !!!\\n','Hoe are you?\\n','what is your name?'])\n",
    "    "
   ]
  }
 ],
 "metadata": {
  "kernelspec": {
   "display_name": "Python 3 (ipykernel)",
   "language": "python",
   "name": "python3"
  },
  "language_info": {
   "codemirror_mode": {
    "name": "ipython",
    "version": 3
   },
   "file_extension": ".py",
   "mimetype": "text/x-python",
   "name": "python",
   "nbconvert_exporter": "python",
   "pygments_lexer": "ipython3",
   "version": "3.9.13"
  }
 },
 "nbformat": 4,
 "nbformat_minor": 5
}
